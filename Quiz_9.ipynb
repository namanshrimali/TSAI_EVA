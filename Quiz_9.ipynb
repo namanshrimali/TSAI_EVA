{
  "nbformat": 4,
  "nbformat_minor": 0,
  "metadata": {
    "colab": {
      "name": "Quiz 9.ipynb",
      "provenance": [],
      "collapsed_sections": []
    },
    "kernelspec": {
      "name": "python3",
      "display_name": "Python 3",
      "language": "python"
    },
    "accelerator": "GPU",
    "widgets": {
      "application/vnd.jupyter.widget-state+json": {
        "450fd21c3e4a4fe0bb00df0353c33163": {
          "model_module": "@jupyter-widgets/controls",
          "model_name": "HBoxModel",
          "state": {
            "_view_name": "HBoxView",
            "_dom_classes": [],
            "_model_name": "HBoxModel",
            "_view_module": "@jupyter-widgets/controls",
            "_model_module_version": "1.5.0",
            "_view_count": null,
            "_view_module_version": "1.5.0",
            "box_style": "",
            "layout": "IPY_MODEL_9c94c65b0cd64e9b8b1f3a63ea67b6f4",
            "_model_module": "@jupyter-widgets/controls",
            "children": [
              "IPY_MODEL_1c1816ce6c8f4a26979add224bc71145",
              "IPY_MODEL_db0ff25ecaa947e6987c12dc3b7ff0c5"
            ]
          }
        },
        "9c94c65b0cd64e9b8b1f3a63ea67b6f4": {
          "model_module": "@jupyter-widgets/base",
          "model_name": "LayoutModel",
          "state": {
            "_view_name": "LayoutView",
            "grid_template_rows": null,
            "right": null,
            "justify_content": null,
            "_view_module": "@jupyter-widgets/base",
            "overflow": null,
            "_model_module_version": "1.2.0",
            "_view_count": null,
            "flex_flow": null,
            "width": null,
            "min_width": null,
            "border": null,
            "align_items": null,
            "bottom": null,
            "_model_module": "@jupyter-widgets/base",
            "top": null,
            "grid_column": null,
            "overflow_y": null,
            "overflow_x": null,
            "grid_auto_flow": null,
            "grid_area": null,
            "grid_template_columns": null,
            "flex": null,
            "_model_name": "LayoutModel",
            "justify_items": null,
            "grid_row": null,
            "max_height": null,
            "align_content": null,
            "visibility": null,
            "align_self": null,
            "height": null,
            "min_height": null,
            "padding": null,
            "grid_auto_rows": null,
            "grid_gap": null,
            "max_width": null,
            "order": null,
            "_view_module_version": "1.2.0",
            "grid_template_areas": null,
            "object_position": null,
            "object_fit": null,
            "grid_auto_columns": null,
            "margin": null,
            "display": null,
            "left": null
          }
        },
        "1c1816ce6c8f4a26979add224bc71145": {
          "model_module": "@jupyter-widgets/controls",
          "model_name": "FloatProgressModel",
          "state": {
            "_view_name": "ProgressView",
            "style": "IPY_MODEL_2c534014416944478c0f16e53f1d9cf6",
            "_dom_classes": [],
            "description": "",
            "_model_name": "FloatProgressModel",
            "bar_style": "info",
            "max": 1,
            "_view_module": "@jupyter-widgets/controls",
            "_model_module_version": "1.5.0",
            "value": 1,
            "_view_count": null,
            "_view_module_version": "1.5.0",
            "orientation": "horizontal",
            "min": 0,
            "description_tooltip": null,
            "_model_module": "@jupyter-widgets/controls",
            "layout": "IPY_MODEL_b2ecb11856124564817d639975bdb87f"
          }
        },
        "db0ff25ecaa947e6987c12dc3b7ff0c5": {
          "model_module": "@jupyter-widgets/controls",
          "model_name": "HTMLModel",
          "state": {
            "_view_name": "HTMLView",
            "style": "IPY_MODEL_9aeb1f447d6b42cdabec0bb095f674e9",
            "_dom_classes": [],
            "description": "",
            "_model_name": "HTMLModel",
            "placeholder": "​",
            "_view_module": "@jupyter-widgets/controls",
            "_model_module_version": "1.5.0",
            "value": " 170500096/? [00:20&lt;00:00, 84863895.54it/s]",
            "_view_count": null,
            "_view_module_version": "1.5.0",
            "description_tooltip": null,
            "_model_module": "@jupyter-widgets/controls",
            "layout": "IPY_MODEL_d4d82af291824e9fb5b5cee332c2db15"
          }
        },
        "2c534014416944478c0f16e53f1d9cf6": {
          "model_module": "@jupyter-widgets/controls",
          "model_name": "ProgressStyleModel",
          "state": {
            "_view_name": "StyleView",
            "_model_name": "ProgressStyleModel",
            "description_width": "initial",
            "_view_module": "@jupyter-widgets/base",
            "_model_module_version": "1.5.0",
            "_view_count": null,
            "_view_module_version": "1.2.0",
            "bar_color": null,
            "_model_module": "@jupyter-widgets/controls"
          }
        },
        "b2ecb11856124564817d639975bdb87f": {
          "model_module": "@jupyter-widgets/base",
          "model_name": "LayoutModel",
          "state": {
            "_view_name": "LayoutView",
            "grid_template_rows": null,
            "right": null,
            "justify_content": null,
            "_view_module": "@jupyter-widgets/base",
            "overflow": null,
            "_model_module_version": "1.2.0",
            "_view_count": null,
            "flex_flow": null,
            "width": null,
            "min_width": null,
            "border": null,
            "align_items": null,
            "bottom": null,
            "_model_module": "@jupyter-widgets/base",
            "top": null,
            "grid_column": null,
            "overflow_y": null,
            "overflow_x": null,
            "grid_auto_flow": null,
            "grid_area": null,
            "grid_template_columns": null,
            "flex": null,
            "_model_name": "LayoutModel",
            "justify_items": null,
            "grid_row": null,
            "max_height": null,
            "align_content": null,
            "visibility": null,
            "align_self": null,
            "height": null,
            "min_height": null,
            "padding": null,
            "grid_auto_rows": null,
            "grid_gap": null,
            "max_width": null,
            "order": null,
            "_view_module_version": "1.2.0",
            "grid_template_areas": null,
            "object_position": null,
            "object_fit": null,
            "grid_auto_columns": null,
            "margin": null,
            "display": null,
            "left": null
          }
        },
        "9aeb1f447d6b42cdabec0bb095f674e9": {
          "model_module": "@jupyter-widgets/controls",
          "model_name": "DescriptionStyleModel",
          "state": {
            "_view_name": "StyleView",
            "_model_name": "DescriptionStyleModel",
            "description_width": "",
            "_view_module": "@jupyter-widgets/base",
            "_model_module_version": "1.5.0",
            "_view_count": null,
            "_view_module_version": "1.2.0",
            "_model_module": "@jupyter-widgets/controls"
          }
        },
        "d4d82af291824e9fb5b5cee332c2db15": {
          "model_module": "@jupyter-widgets/base",
          "model_name": "LayoutModel",
          "state": {
            "_view_name": "LayoutView",
            "grid_template_rows": null,
            "right": null,
            "justify_content": null,
            "_view_module": "@jupyter-widgets/base",
            "overflow": null,
            "_model_module_version": "1.2.0",
            "_view_count": null,
            "flex_flow": null,
            "width": null,
            "min_width": null,
            "border": null,
            "align_items": null,
            "bottom": null,
            "_model_module": "@jupyter-widgets/base",
            "top": null,
            "grid_column": null,
            "overflow_y": null,
            "overflow_x": null,
            "grid_auto_flow": null,
            "grid_area": null,
            "grid_template_columns": null,
            "flex": null,
            "_model_name": "LayoutModel",
            "justify_items": null,
            "grid_row": null,
            "max_height": null,
            "align_content": null,
            "visibility": null,
            "align_self": null,
            "height": null,
            "min_height": null,
            "padding": null,
            "grid_auto_rows": null,
            "grid_gap": null,
            "max_width": null,
            "order": null,
            "_view_module_version": "1.2.0",
            "grid_template_areas": null,
            "object_position": null,
            "object_fit": null,
            "grid_auto_columns": null,
            "margin": null,
            "display": null,
            "left": null
          }
        }
      }
    }
  },
  "cells": [
    {
      "cell_type": "code",
      "metadata": {
        "colab": {
          "base_uri": "https://localhost:8080/"
        },
        "id": "lU-updAQIln4",
        "outputId": "1527e6b4-aa49-429b-fbd3-54f7c456a078"
      },
      "source": [
        "import datetime\n",
        "print(\"Current Date/Time: \", datetime.datetime.now())\n",
        "# colab is in utc timezone, so below time + 5hr30 min = IST"
      ],
      "execution_count": 1,
      "outputs": [
        {
          "output_type": "stream",
          "text": [
            "Current Date/Time:  2021-02-06 12:16:42.102115\n"
          ],
          "name": "stdout"
        }
      ]
    },
    {
      "cell_type": "code",
      "metadata": {
        "colab": {
          "base_uri": "https://localhost:8080/"
        },
        "id": "YZTq9fh5QNfQ",
        "outputId": "3e750ca5-d88b-456b-fa36-01ce37fc2cd4"
      },
      "source": [
        "!git clone https://github.com/namanshrimali/simplif-ai.git\n",
        "!pip install -U albumentations\n",
        "%cd simplif-ai\n",
        "%matplotlib inline "
      ],
      "execution_count": 2,
      "outputs": [
        {
          "output_type": "stream",
          "text": [
            "fatal: destination path 'simplif-ai' already exists and is not an empty directory.\n",
            "Requirement already up-to-date: albumentations in /usr/local/lib/python3.6/dist-packages (0.5.2)\n",
            "Requirement already satisfied, skipping upgrade: numpy>=1.11.1 in /usr/local/lib/python3.6/dist-packages (from albumentations) (1.19.5)\n",
            "Requirement already satisfied, skipping upgrade: scikit-image>=0.16.1 in /usr/local/lib/python3.6/dist-packages (from albumentations) (0.16.2)\n",
            "Requirement already satisfied, skipping upgrade: scipy in /usr/local/lib/python3.6/dist-packages (from albumentations) (1.4.1)\n",
            "Requirement already satisfied, skipping upgrade: imgaug>=0.4.0 in /usr/local/lib/python3.6/dist-packages (from albumentations) (0.4.0)\n",
            "Requirement already satisfied, skipping upgrade: PyYAML in /usr/local/lib/python3.6/dist-packages (from albumentations) (3.13)\n",
            "Requirement already satisfied, skipping upgrade: opencv-python-headless>=4.1.1 in /usr/local/lib/python3.6/dist-packages (from albumentations) (4.5.1.48)\n",
            "Requirement already satisfied, skipping upgrade: matplotlib!=3.0.0,>=2.0.0 in /usr/local/lib/python3.6/dist-packages (from scikit-image>=0.16.1->albumentations) (3.2.2)\n",
            "Requirement already satisfied, skipping upgrade: pillow>=4.3.0 in /usr/local/lib/python3.6/dist-packages (from scikit-image>=0.16.1->albumentations) (7.0.0)\n",
            "Requirement already satisfied, skipping upgrade: imageio>=2.3.0 in /usr/local/lib/python3.6/dist-packages (from scikit-image>=0.16.1->albumentations) (2.4.1)\n",
            "Requirement already satisfied, skipping upgrade: PyWavelets>=0.4.0 in /usr/local/lib/python3.6/dist-packages (from scikit-image>=0.16.1->albumentations) (1.1.1)\n",
            "Requirement already satisfied, skipping upgrade: networkx>=2.0 in /usr/local/lib/python3.6/dist-packages (from scikit-image>=0.16.1->albumentations) (2.5)\n",
            "Requirement already satisfied, skipping upgrade: opencv-python in /usr/local/lib/python3.6/dist-packages (from imgaug>=0.4.0->albumentations) (4.1.2.30)\n",
            "Requirement already satisfied, skipping upgrade: Shapely in /usr/local/lib/python3.6/dist-packages (from imgaug>=0.4.0->albumentations) (1.7.1)\n",
            "Requirement already satisfied, skipping upgrade: six in /usr/local/lib/python3.6/dist-packages (from imgaug>=0.4.0->albumentations) (1.15.0)\n",
            "Requirement already satisfied, skipping upgrade: pyparsing!=2.0.4,!=2.1.2,!=2.1.6,>=2.0.1 in /usr/local/lib/python3.6/dist-packages (from matplotlib!=3.0.0,>=2.0.0->scikit-image>=0.16.1->albumentations) (2.4.7)\n",
            "Requirement already satisfied, skipping upgrade: cycler>=0.10 in /usr/local/lib/python3.6/dist-packages (from matplotlib!=3.0.0,>=2.0.0->scikit-image>=0.16.1->albumentations) (0.10.0)\n",
            "Requirement already satisfied, skipping upgrade: kiwisolver>=1.0.1 in /usr/local/lib/python3.6/dist-packages (from matplotlib!=3.0.0,>=2.0.0->scikit-image>=0.16.1->albumentations) (1.3.1)\n",
            "Requirement already satisfied, skipping upgrade: python-dateutil>=2.1 in /usr/local/lib/python3.6/dist-packages (from matplotlib!=3.0.0,>=2.0.0->scikit-image>=0.16.1->albumentations) (2.8.1)\n",
            "Requirement already satisfied, skipping upgrade: decorator>=4.3.0 in /usr/local/lib/python3.6/dist-packages (from networkx>=2.0->scikit-image>=0.16.1->albumentations) (4.4.2)\n",
            "/content/simplif-ai\n"
          ],
          "name": "stdout"
        }
      ]
    },
    {
      "cell_type": "code",
      "metadata": {
        "id": "n85DIGx1QNfR"
      },
      "source": [
        "from util.devices import find_device\n",
        "from data_action.data_loader import *\n",
        "from util.image_plot import plot_images\n",
        "from learning.train import train\n",
        "from learning.validate import test\n",
        "from util.mean_std_calc import calc_mean_std\n",
        "from util.graph_plot import plot_me\n",
        "from quiz_dnn import *"
      ],
      "execution_count": 3,
      "outputs": []
    },
    {
      "cell_type": "code",
      "metadata": {
        "colab": {
          "base_uri": "https://localhost:8080/",
          "height": 285,
          "referenced_widgets": [
            "450fd21c3e4a4fe0bb00df0353c33163",
            "9c94c65b0cd64e9b8b1f3a63ea67b6f4",
            "1c1816ce6c8f4a26979add224bc71145",
            "db0ff25ecaa947e6987c12dc3b7ff0c5",
            "2c534014416944478c0f16e53f1d9cf6",
            "b2ecb11856124564817d639975bdb87f",
            "9aeb1f447d6b42cdabec0bb095f674e9",
            "d4d82af291824e9fb5b5cee332c2db15"
          ]
        },
        "id": "-xDb28W5QNfT",
        "outputId": "667ad748-9933-4a14-b34a-c96088040ac0"
      },
      "source": [
        "device = find_device()\n",
        "batch_size = 100\n",
        "dataset = 'CIFAR10' \n",
        "\n",
        "mean, std = calc_mean_std(dataset) # calculates mean and standard deviation of the dataset\n",
        "\n",
        "data_loader = Data_Loader(device, batch_size, dataset = dataset, mean = mean, std = std, transform_type='mmda')\n",
        "\n",
        "trainloader = data_loader.load_training_data()\n",
        "testloader = data_loader.load_testing_data()\n",
        "\n",
        "classes = ('plane', 'car', 'bird', 'cat',\n",
        "           'deer', 'dog', 'frog', 'horse', 'ship', 'truck')"
      ],
      "execution_count": 4,
      "outputs": [
        {
          "output_type": "stream",
          "text": [
            "device: cuda\n",
            "\n",
            "Downloading https://www.cs.toronto.edu/~kriz/cifar-10-python.tar.gz to data/cifar-10-python.tar.gz\n"
          ],
          "name": "stdout"
        },
        {
          "output_type": "display_data",
          "data": {
            "application/vnd.jupyter.widget-view+json": {
              "model_id": "450fd21c3e4a4fe0bb00df0353c33163",
              "version_minor": 0,
              "version_major": 2
            },
            "text/plain": [
              "HBox(children=(FloatProgress(value=1.0, bar_style='info', max=1.0), HTML(value='')))"
            ]
          },
          "metadata": {
            "tags": []
          }
        },
        {
          "output_type": "stream",
          "text": [
            "Extracting data/cifar-10-python.tar.gz to data\n",
            "Mean: [0.49139884 0.48215783 0.44653153], Std: [0.20230089 0.19941294 0.200962  ]\n",
            "Loading training data. Dataset: CIFAR10\n",
            "Files already downloaded and verified\n",
            "Training data loaded\n",
            "\n",
            "Loading testing data.\n",
            "Files already downloaded and verified\n",
            "Test data loaded\n",
            "\n"
          ],
          "name": "stdout"
        }
      ]
    },
    {
      "cell_type": "code",
      "metadata": {
        "id": "1im2NYhJQNfU"
      },
      "source": [
        "model = QuizDnn().to(device)"
      ],
      "execution_count": 5,
      "outputs": []
    },
    {
      "cell_type": "code",
      "metadata": {
        "colab": {
          "base_uri": "https://localhost:8080/"
        },
        "id": "dRbr7XX-QNfV",
        "outputId": "2440ad51-bf15-47d8-b6c4-2554da0ae6b0"
      },
      "source": [
        "!pip install torchsummary\n",
        "from torchsummary import summary\n",
        "\n",
        "summary(model, input_size=(3, 32, 32))"
      ],
      "execution_count": 6,
      "outputs": [
        {
          "output_type": "stream",
          "text": [
            "Requirement already satisfied: torchsummary in /usr/local/lib/python3.6/dist-packages (1.5.1)\n",
            "----------------------------------------------------------------\n",
            "        Layer (type)               Output Shape         Param #\n",
            "================================================================\n",
            "            Conv2d-1           [-1, 32, 32, 32]             896\n",
            "              ReLU-2           [-1, 32, 32, 32]               0\n",
            "       BatchNorm2d-3           [-1, 32, 32, 32]              64\n",
            "           Dropout-4           [-1, 32, 32, 32]               0\n",
            "            Conv2d-5           [-1, 64, 32, 32]          18,496\n",
            "              ReLU-6           [-1, 64, 32, 32]               0\n",
            "       BatchNorm2d-7           [-1, 64, 32, 32]             128\n",
            "           Dropout-8           [-1, 64, 32, 32]               0\n",
            "         MaxPool2d-9           [-1, 64, 16, 16]               0\n",
            "           Conv2d-10           [-1, 64, 16, 16]          36,928\n",
            "             ReLU-11           [-1, 64, 16, 16]               0\n",
            "      BatchNorm2d-12           [-1, 64, 16, 16]             128\n",
            "          Dropout-13           [-1, 64, 16, 16]               0\n",
            "           Conv2d-14           [-1, 64, 16, 16]          36,928\n",
            "             ReLU-15           [-1, 64, 16, 16]               0\n",
            "      BatchNorm2d-16           [-1, 64, 16, 16]             128\n",
            "          Dropout-17           [-1, 64, 16, 16]               0\n",
            "           Conv2d-18          [-1, 128, 16, 16]          73,856\n",
            "             ReLU-19          [-1, 128, 16, 16]               0\n",
            "      BatchNorm2d-20          [-1, 128, 16, 16]             256\n",
            "          Dropout-21          [-1, 128, 16, 16]               0\n",
            "        MaxPool2d-22            [-1, 128, 8, 8]               0\n",
            "           Conv2d-23            [-1, 256, 6, 6]         295,168\n",
            "             ReLU-24            [-1, 256, 6, 6]               0\n",
            "      BatchNorm2d-25            [-1, 256, 6, 6]             512\n",
            "          Dropout-26            [-1, 256, 6, 6]               0\n",
            "           Conv2d-27            [-1, 256, 4, 4]         590,080\n",
            "             ReLU-28            [-1, 256, 4, 4]               0\n",
            "      BatchNorm2d-29            [-1, 256, 4, 4]             512\n",
            "          Dropout-30            [-1, 256, 4, 4]               0\n",
            "           Conv2d-31             [-1, 10, 4, 4]           2,570\n",
            "             ReLU-32             [-1, 10, 4, 4]               0\n",
            "      BatchNorm2d-33             [-1, 10, 4, 4]              20\n",
            "          Dropout-34             [-1, 10, 4, 4]               0\n",
            "        AvgPool2d-35             [-1, 10, 1, 1]               0\n",
            "================================================================\n",
            "Total params: 1,056,670\n",
            "Trainable params: 1,056,670\n",
            "Non-trainable params: 0\n",
            "----------------------------------------------------------------\n",
            "Input size (MB): 0.01\n",
            "Forward/backward pass size (MB): 5.60\n",
            "Params size (MB): 4.03\n",
            "Estimated Total Size (MB): 9.64\n",
            "----------------------------------------------------------------\n"
          ],
          "name": "stdout"
        },
        {
          "output_type": "stream",
          "text": [
            "/content/simplif-ai/quiz_dnn.py:69: UserWarning: Implicit dimension choice for log_softmax has been deprecated. Change the call to include dim=X as an argument.\n",
            "  return F.log_softmax(x)\n"
          ],
          "name": "stderr"
        }
      ]
    },
    {
      "cell_type": "code",
      "metadata": {
        "colab": {
          "base_uri": "https://localhost:8080/"
        },
        "id": "8gOEjsfTQNfW",
        "outputId": "7ec69e42-38f2-4c28-b691-b808ba7b1381"
      },
      "source": [
        "import torch.optim as optim\n",
        "from torch.optim.lr_scheduler import StepLR, ReduceLROnPlateau\n",
        "\n",
        "train_loss = [] \n",
        "train_accuracy = []\n",
        "test_loss = []\n",
        "test_accuracy = []\n",
        "\n",
        "\n",
        "optimizer = optim.SGD(model.parameters(), lr=0.2, momentum=0.9)\n",
        "scheduler = StepLR(optimizer, step_size= 8, gamma= 0.5, verbose = True)\n",
        "\n",
        "for epoch in range(20):  # loop over the dataset multiple times\n",
        "    misclassified = []\n",
        "    print(f'Epoch: {epoch+1}')\n",
        "    train(model, device, trainloader, train_loss, train_accuracy, optimizer)\n",
        "    test(model, device, testloader, test_loss, test_accuracy, misclassified)\n",
        "    scheduler.step()"
      ],
      "execution_count": 7,
      "outputs": [
        {
          "output_type": "stream",
          "text": [
            "  0%|          | 0/500 [00:00<?, ?it/s]/content/simplif-ai/quiz_dnn.py:69: UserWarning: Implicit dimension choice for log_softmax has been deprecated. Change the call to include dim=X as an argument.\n",
            "  return F.log_softmax(x)\n",
            "loss=2.301487684249878 batch_id=0:   0%|          | 1/500 [00:00<01:00,  8.20it/s]"
          ],
          "name": "stderr"
        },
        {
          "output_type": "stream",
          "text": [
            "Adjusting learning rate of group 0 to 2.0000e-01.\n",
            "Epoch: 1\n"
          ],
          "name": "stdout"
        },
        {
          "output_type": "stream",
          "text": [
            "loss=1.3574687242507935 batch_id=499: 100%|██████████| 500/500 [00:42<00:00, 11.71it/s]\n"
          ],
          "name": "stderr"
        },
        {
          "output_type": "stream",
          "text": [
            "\\Train set: Accuracy: 18830/50000 (37.6600%)\n",
            "\n"
          ],
          "name": "stdout"
        },
        {
          "output_type": "stream",
          "text": [
            "loss=1.4041346311569214 batch_id=1:   0%|          | 2/500 [00:00<00:40, 12.27it/s]"
          ],
          "name": "stderr"
        },
        {
          "output_type": "stream",
          "text": [
            "\n",
            "Test set: Average loss: 1.4108, Accuracy: 5079/10000 (50.79%)\n",
            "\n",
            "Adjusting learning rate of group 0 to 2.0000e-01.\n",
            "Epoch: 2\n"
          ],
          "name": "stdout"
        },
        {
          "output_type": "stream",
          "text": [
            "loss=1.2502055168151855 batch_id=499: 100%|██████████| 500/500 [00:42<00:00, 11.67it/s]\n"
          ],
          "name": "stderr"
        },
        {
          "output_type": "stream",
          "text": [
            "\\Train set: Accuracy: 26907/50000 (53.8140%)\n",
            "\n"
          ],
          "name": "stdout"
        },
        {
          "output_type": "stream",
          "text": [
            "loss=1.1587274074554443 batch_id=1:   0%|          | 2/500 [00:00<00:41, 12.04it/s]"
          ],
          "name": "stderr"
        },
        {
          "output_type": "stream",
          "text": [
            "\n",
            "Test set: Average loss: 1.0277, Accuracy: 6418/10000 (64.18%)\n",
            "\n",
            "Adjusting learning rate of group 0 to 2.0000e-01.\n",
            "Epoch: 3\n"
          ],
          "name": "stdout"
        },
        {
          "output_type": "stream",
          "text": [
            "loss=1.1159825325012207 batch_id=499: 100%|██████████| 500/500 [00:42<00:00, 11.72it/s]\n"
          ],
          "name": "stderr"
        },
        {
          "output_type": "stream",
          "text": [
            "\\Train set: Accuracy: 30738/50000 (61.4760%)\n",
            "\n"
          ],
          "name": "stdout"
        },
        {
          "output_type": "stream",
          "text": [
            "loss=0.9162479639053345 batch_id=1:   0%|          | 2/500 [00:00<00:42, 11.63it/s]"
          ],
          "name": "stderr"
        },
        {
          "output_type": "stream",
          "text": [
            "\n",
            "Test set: Average loss: 0.8623, Accuracy: 7071/10000 (70.71%)\n",
            "\n",
            "Adjusting learning rate of group 0 to 2.0000e-01.\n",
            "Epoch: 4\n"
          ],
          "name": "stdout"
        },
        {
          "output_type": "stream",
          "text": [
            "loss=0.9341360330581665 batch_id=499: 100%|██████████| 500/500 [00:42<00:00, 11.68it/s]\n"
          ],
          "name": "stderr"
        },
        {
          "output_type": "stream",
          "text": [
            "\\Train set: Accuracy: 32972/50000 (65.9440%)\n",
            "\n"
          ],
          "name": "stdout"
        },
        {
          "output_type": "stream",
          "text": [
            "loss=0.9349958896636963 batch_id=1:   0%|          | 2/500 [00:00<00:42, 11.62it/s]"
          ],
          "name": "stderr"
        },
        {
          "output_type": "stream",
          "text": [
            "\n",
            "Test set: Average loss: 0.7710, Accuracy: 7328/10000 (73.28%)\n",
            "\n",
            "Adjusting learning rate of group 0 to 2.0000e-01.\n",
            "Epoch: 5\n"
          ],
          "name": "stdout"
        },
        {
          "output_type": "stream",
          "text": [
            "loss=0.8988379836082458 batch_id=499: 100%|██████████| 500/500 [00:42<00:00, 11.82it/s]\n"
          ],
          "name": "stderr"
        },
        {
          "output_type": "stream",
          "text": [
            "\\Train set: Accuracy: 34204/50000 (68.4080%)\n",
            "\n"
          ],
          "name": "stdout"
        },
        {
          "output_type": "stream",
          "text": [
            "loss=0.7305412292480469 batch_id=1:   0%|          | 2/500 [00:00<00:40, 12.16it/s]"
          ],
          "name": "stderr"
        },
        {
          "output_type": "stream",
          "text": [
            "\n",
            "Test set: Average loss: 0.6698, Accuracy: 7674/10000 (76.74%)\n",
            "\n",
            "Adjusting learning rate of group 0 to 2.0000e-01.\n",
            "Epoch: 6\n"
          ],
          "name": "stdout"
        },
        {
          "output_type": "stream",
          "text": [
            "loss=0.7864267826080322 batch_id=499: 100%|██████████| 500/500 [00:42<00:00, 11.80it/s]\n"
          ],
          "name": "stderr"
        },
        {
          "output_type": "stream",
          "text": [
            "\\Train set: Accuracy: 35298/50000 (70.5960%)\n",
            "\n"
          ],
          "name": "stdout"
        },
        {
          "output_type": "stream",
          "text": [
            "loss=0.7458749413490295 batch_id=1:   0%|          | 2/500 [00:00<00:41, 12.10it/s]"
          ],
          "name": "stderr"
        },
        {
          "output_type": "stream",
          "text": [
            "\n",
            "Test set: Average loss: 0.6653, Accuracy: 7689/10000 (76.89%)\n",
            "\n",
            "Adjusting learning rate of group 0 to 2.0000e-01.\n",
            "Epoch: 7\n"
          ],
          "name": "stdout"
        },
        {
          "output_type": "stream",
          "text": [
            "loss=0.5852187871932983 batch_id=499: 100%|██████████| 500/500 [00:42<00:00, 11.86it/s]\n"
          ],
          "name": "stderr"
        },
        {
          "output_type": "stream",
          "text": [
            "\\Train set: Accuracy: 35966/50000 (71.9320%)\n",
            "\n"
          ],
          "name": "stdout"
        },
        {
          "output_type": "stream",
          "text": [
            "loss=0.7380273938179016 batch_id=1:   0%|          | 2/500 [00:00<00:43, 11.33it/s]"
          ],
          "name": "stderr"
        },
        {
          "output_type": "stream",
          "text": [
            "\n",
            "Test set: Average loss: 0.5628, Accuracy: 8089/10000 (80.89%)\n",
            "\n",
            "Adjusting learning rate of group 0 to 2.0000e-01.\n",
            "Epoch: 8\n"
          ],
          "name": "stdout"
        },
        {
          "output_type": "stream",
          "text": [
            "loss=0.6906738877296448 batch_id=499: 100%|██████████| 500/500 [00:42<00:00, 11.77it/s]\n"
          ],
          "name": "stderr"
        },
        {
          "output_type": "stream",
          "text": [
            "\\Train set: Accuracy: 36617/50000 (73.2340%)\n",
            "\n"
          ],
          "name": "stdout"
        },
        {
          "output_type": "stream",
          "text": [
            "loss=0.7582245469093323 batch_id=1:   0%|          | 2/500 [00:00<00:42, 11.66it/s]"
          ],
          "name": "stderr"
        },
        {
          "output_type": "stream",
          "text": [
            "\n",
            "Test set: Average loss: 0.5485, Accuracy: 8147/10000 (81.47%)\n",
            "\n",
            "Adjusting learning rate of group 0 to 1.0000e-01.\n",
            "Epoch: 9\n"
          ],
          "name": "stdout"
        },
        {
          "output_type": "stream",
          "text": [
            "loss=0.5682733654975891 batch_id=499: 100%|██████████| 500/500 [00:42<00:00, 11.71it/s]\n"
          ],
          "name": "stderr"
        },
        {
          "output_type": "stream",
          "text": [
            "\\Train set: Accuracy: 37772/50000 (75.5440%)\n",
            "\n"
          ],
          "name": "stdout"
        },
        {
          "output_type": "stream",
          "text": [
            "loss=0.7840709090232849 batch_id=1:   0%|          | 2/500 [00:00<00:41, 12.14it/s]"
          ],
          "name": "stderr"
        },
        {
          "output_type": "stream",
          "text": [
            "\n",
            "Test set: Average loss: 0.4985, Accuracy: 8321/10000 (83.21%)\n",
            "\n",
            "Adjusting learning rate of group 0 to 1.0000e-01.\n",
            "Epoch: 10\n"
          ],
          "name": "stdout"
        },
        {
          "output_type": "stream",
          "text": [
            "loss=0.8334375023841858 batch_id=499: 100%|██████████| 500/500 [00:42<00:00, 11.85it/s]\n"
          ],
          "name": "stderr"
        },
        {
          "output_type": "stream",
          "text": [
            "\\Train set: Accuracy: 38350/50000 (76.7000%)\n",
            "\n"
          ],
          "name": "stdout"
        },
        {
          "output_type": "stream",
          "text": [
            "loss=0.5241215229034424 batch_id=1:   0%|          | 2/500 [00:00<00:41, 11.88it/s]"
          ],
          "name": "stderr"
        },
        {
          "output_type": "stream",
          "text": [
            "\n",
            "Test set: Average loss: 0.5106, Accuracy: 8219/10000 (82.19%)\n",
            "\n",
            "Adjusting learning rate of group 0 to 1.0000e-01.\n",
            "Epoch: 11\n"
          ],
          "name": "stdout"
        },
        {
          "output_type": "stream",
          "text": [
            "loss=0.6880629062652588 batch_id=499: 100%|██████████| 500/500 [00:42<00:00, 11.79it/s]\n"
          ],
          "name": "stderr"
        },
        {
          "output_type": "stream",
          "text": [
            "\\Train set: Accuracy: 38609/50000 (77.2180%)\n",
            "\n"
          ],
          "name": "stdout"
        },
        {
          "output_type": "stream",
          "text": [
            "loss=0.5602237582206726 batch_id=1:   0%|          | 2/500 [00:00<00:42, 11.70it/s]"
          ],
          "name": "stderr"
        },
        {
          "output_type": "stream",
          "text": [
            "\n",
            "Test set: Average loss: 0.4914, Accuracy: 8328/10000 (83.28%)\n",
            "\n",
            "Adjusting learning rate of group 0 to 1.0000e-01.\n",
            "Epoch: 12\n"
          ],
          "name": "stdout"
        },
        {
          "output_type": "stream",
          "text": [
            "loss=0.8573115468025208 batch_id=499: 100%|██████████| 500/500 [00:42<00:00, 11.80it/s]\n"
          ],
          "name": "stderr"
        },
        {
          "output_type": "stream",
          "text": [
            "\\Train set: Accuracy: 38608/50000 (77.2160%)\n",
            "\n"
          ],
          "name": "stdout"
        },
        {
          "output_type": "stream",
          "text": [
            "loss=0.6042380928993225 batch_id=1:   0%|          | 2/500 [00:00<00:42, 11.85it/s]"
          ],
          "name": "stderr"
        },
        {
          "output_type": "stream",
          "text": [
            "\n",
            "Test set: Average loss: 0.4678, Accuracy: 8402/10000 (84.02%)\n",
            "\n",
            "Adjusting learning rate of group 0 to 1.0000e-01.\n",
            "Epoch: 13\n"
          ],
          "name": "stdout"
        },
        {
          "output_type": "stream",
          "text": [
            "loss=0.512150764465332 batch_id=499: 100%|██████████| 500/500 [00:42<00:00, 11.81it/s]\n"
          ],
          "name": "stderr"
        },
        {
          "output_type": "stream",
          "text": [
            "\\Train set: Accuracy: 39040/50000 (78.0800%)\n",
            "\n"
          ],
          "name": "stdout"
        },
        {
          "output_type": "stream",
          "text": [
            "loss=0.8335579037666321 batch_id=1:   0%|          | 2/500 [00:00<00:41, 11.91it/s]"
          ],
          "name": "stderr"
        },
        {
          "output_type": "stream",
          "text": [
            "\n",
            "Test set: Average loss: 0.4525, Accuracy: 8433/10000 (84.33%)\n",
            "\n",
            "Adjusting learning rate of group 0 to 1.0000e-01.\n",
            "Epoch: 14\n"
          ],
          "name": "stdout"
        },
        {
          "output_type": "stream",
          "text": [
            "loss=0.8546085357666016 batch_id=499: 100%|██████████| 500/500 [00:42<00:00, 11.78it/s]\n"
          ],
          "name": "stderr"
        },
        {
          "output_type": "stream",
          "text": [
            "\\Train set: Accuracy: 39087/50000 (78.1740%)\n",
            "\n"
          ],
          "name": "stdout"
        },
        {
          "output_type": "stream",
          "text": [
            "loss=0.7123095989227295 batch_id=1:   0%|          | 2/500 [00:00<00:43, 11.41it/s]"
          ],
          "name": "stderr"
        },
        {
          "output_type": "stream",
          "text": [
            "\n",
            "Test set: Average loss: 0.4405, Accuracy: 8479/10000 (84.79%)\n",
            "\n",
            "Adjusting learning rate of group 0 to 1.0000e-01.\n",
            "Epoch: 15\n"
          ],
          "name": "stdout"
        },
        {
          "output_type": "stream",
          "text": [
            "loss=0.4400561451911926 batch_id=499: 100%|██████████| 500/500 [00:42<00:00, 11.79it/s]\n"
          ],
          "name": "stderr"
        },
        {
          "output_type": "stream",
          "text": [
            "\\Train set: Accuracy: 39211/50000 (78.4220%)\n",
            "\n"
          ],
          "name": "stdout"
        },
        {
          "output_type": "stream",
          "text": [
            "loss=0.5416594743728638 batch_id=1:   0%|          | 2/500 [00:00<00:40, 12.37it/s]"
          ],
          "name": "stderr"
        },
        {
          "output_type": "stream",
          "text": [
            "\n",
            "Test set: Average loss: 0.4533, Accuracy: 8434/10000 (84.34%)\n",
            "\n",
            "Adjusting learning rate of group 0 to 1.0000e-01.\n",
            "Epoch: 16\n"
          ],
          "name": "stdout"
        },
        {
          "output_type": "stream",
          "text": [
            "loss=0.7521621584892273 batch_id=499: 100%|██████████| 500/500 [00:42<00:00, 11.84it/s]\n"
          ],
          "name": "stderr"
        },
        {
          "output_type": "stream",
          "text": [
            "\\Train set: Accuracy: 39510/50000 (79.0200%)\n",
            "\n"
          ],
          "name": "stdout"
        },
        {
          "output_type": "stream",
          "text": [
            "loss=0.6128263473510742 batch_id=1:   0%|          | 2/500 [00:00<00:43, 11.53it/s]"
          ],
          "name": "stderr"
        },
        {
          "output_type": "stream",
          "text": [
            "\n",
            "Test set: Average loss: 0.4318, Accuracy: 8521/10000 (85.21%)\n",
            "\n",
            "Adjusting learning rate of group 0 to 5.0000e-02.\n",
            "Epoch: 17\n"
          ],
          "name": "stdout"
        },
        {
          "output_type": "stream",
          "text": [
            "loss=0.6602214574813843 batch_id=499: 100%|██████████| 500/500 [00:42<00:00, 11.74it/s]\n"
          ],
          "name": "stderr"
        },
        {
          "output_type": "stream",
          "text": [
            "\\Train set: Accuracy: 40171/50000 (80.3420%)\n",
            "\n"
          ],
          "name": "stdout"
        },
        {
          "output_type": "stream",
          "text": [
            "loss=0.6555052995681763 batch_id=1:   0%|          | 2/500 [00:00<00:41, 11.91it/s]"
          ],
          "name": "stderr"
        },
        {
          "output_type": "stream",
          "text": [
            "\n",
            "Test set: Average loss: 0.3974, Accuracy: 8657/10000 (86.57%)\n",
            "\n",
            "Adjusting learning rate of group 0 to 5.0000e-02.\n",
            "Epoch: 18\n"
          ],
          "name": "stdout"
        },
        {
          "output_type": "stream",
          "text": [
            "loss=0.6915380358695984 batch_id=499: 100%|██████████| 500/500 [00:42<00:00, 11.72it/s]\n"
          ],
          "name": "stderr"
        },
        {
          "output_type": "stream",
          "text": [
            "\\Train set: Accuracy: 40284/50000 (80.5680%)\n",
            "\n"
          ],
          "name": "stdout"
        },
        {
          "output_type": "stream",
          "text": [
            "loss=0.7019530534744263 batch_id=1:   0%|          | 2/500 [00:00<00:41, 11.98it/s]"
          ],
          "name": "stderr"
        },
        {
          "output_type": "stream",
          "text": [
            "\n",
            "Test set: Average loss: 0.4045, Accuracy: 8618/10000 (86.18%)\n",
            "\n",
            "Adjusting learning rate of group 0 to 5.0000e-02.\n",
            "Epoch: 19\n"
          ],
          "name": "stdout"
        },
        {
          "output_type": "stream",
          "text": [
            "loss=0.5526840686798096 batch_id=499: 100%|██████████| 500/500 [00:42<00:00, 11.78it/s]\n"
          ],
          "name": "stderr"
        },
        {
          "output_type": "stream",
          "text": [
            "\\Train set: Accuracy: 40587/50000 (81.1740%)\n",
            "\n"
          ],
          "name": "stdout"
        },
        {
          "output_type": "stream",
          "text": [
            "loss=0.5485313534736633 batch_id=1:   0%|          | 2/500 [00:00<00:42, 11.78it/s]"
          ],
          "name": "stderr"
        },
        {
          "output_type": "stream",
          "text": [
            "\n",
            "Test set: Average loss: 0.4024, Accuracy: 8651/10000 (86.51%)\n",
            "\n",
            "Adjusting learning rate of group 0 to 5.0000e-02.\n",
            "Epoch: 20\n"
          ],
          "name": "stdout"
        },
        {
          "output_type": "stream",
          "text": [
            "loss=0.5458937287330627 batch_id=499: 100%|██████████| 500/500 [00:42<00:00, 11.83it/s]\n"
          ],
          "name": "stderr"
        },
        {
          "output_type": "stream",
          "text": [
            "\\Train set: Accuracy: 40659/50000 (81.3180%)\n",
            "\n",
            "\n",
            "Test set: Average loss: 0.4059, Accuracy: 8615/10000 (86.15%)\n",
            "\n",
            "Adjusting learning rate of group 0 to 5.0000e-02.\n"
          ],
          "name": "stdout"
        }
      ]
    },
    {
      "cell_type": "code",
      "metadata": {
        "colab": {
          "base_uri": "https://localhost:8080/",
          "height": 846
        },
        "id": "tYLcia0lQNfX",
        "outputId": "bd952236-b2a4-44d5-ebeb-032b9c4fa8bf"
      },
      "source": [
        "plot_me(train_loss, train_accuracy, test_loss, test_accuracy)"
      ],
      "execution_count": 8,
      "outputs": [
        {
          "output_type": "display_data",
          "data": {
            "image/png": "[encoded data removed]",
            "text/plain": [
              "<Figure size 1440x1080 with 4 Axes>"
            ]
          },
          "metadata": {
            "tags": [],
            "needs_background": "light"
          }
        }
      ]
    }
  ]
}