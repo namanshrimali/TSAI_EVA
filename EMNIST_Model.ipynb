{
  "nbformat": 4,
  "nbformat_minor": 0,
  "metadata": {
    "colab": {
      "name": "EMNIST_Model.ipynb",
      "provenance": [],
      "collapsed_sections": []
    },
    "kernelspec": {
      "name": "python3",
      "display_name": "Python 3"
    },
    "accelerator": "GPU",
    "widgets": {
      "application/vnd.jupyter.widget-state+json": {
        "50ad1ee172a24fb4abbf5120a4ac6b50": {
          "model_module": "@jupyter-widgets/controls",
          "model_name": "HBoxModel",
          "state": {
            "_view_name": "HBoxView",
            "_dom_classes": [],
            "_model_name": "HBoxModel",
            "_view_module": "@jupyter-widgets/controls",
            "_model_module_version": "1.5.0",
            "_view_count": null,
            "_view_module_version": "1.5.0",
            "box_style": "",
            "layout": "IPY_MODEL_75fe6c9bed0849eb8e227067067d8a0b",
            "_model_module": "@jupyter-widgets/controls",
            "children": [
              "IPY_MODEL_fc90ee2be3da417486e66eaec15cd242",
              "IPY_MODEL_eda50908cb334bcf930bb747ddec185d"
            ]
          }
        },
        "75fe6c9bed0849eb8e227067067d8a0b": {
          "model_module": "@jupyter-widgets/base",
          "model_name": "LayoutModel",
          "state": {
            "_view_name": "LayoutView",
            "grid_template_rows": null,
            "right": null,
            "justify_content": null,
            "_view_module": "@jupyter-widgets/base",
            "overflow": null,
            "_model_module_version": "1.2.0",
            "_view_count": null,
            "flex_flow": null,
            "width": null,
            "min_width": null,
            "border": null,
            "align_items": null,
            "bottom": null,
            "_model_module": "@jupyter-widgets/base",
            "top": null,
            "grid_column": null,
            "overflow_y": null,
            "overflow_x": null,
            "grid_auto_flow": null,
            "grid_area": null,
            "grid_template_columns": null,
            "flex": null,
            "_model_name": "LayoutModel",
            "justify_items": null,
            "grid_row": null,
            "max_height": null,
            "align_content": null,
            "visibility": null,
            "align_self": null,
            "height": null,
            "min_height": null,
            "padding": null,
            "grid_auto_rows": null,
            "grid_gap": null,
            "max_width": null,
            "order": null,
            "_view_module_version": "1.2.0",
            "grid_template_areas": null,
            "object_position": null,
            "object_fit": null,
            "grid_auto_columns": null,
            "margin": null,
            "display": null,
            "left": null
          }
        },
        "fc90ee2be3da417486e66eaec15cd242": {
          "model_module": "@jupyter-widgets/controls",
          "model_name": "FloatProgressModel",
          "state": {
            "_view_name": "ProgressView",
            "style": "IPY_MODEL_6622389e634a435db1274dcfdb23c21d",
            "_dom_classes": [],
            "description": "",
            "_model_name": "FloatProgressModel",
            "bar_style": "info",
            "max": 1,
            "_view_module": "@jupyter-widgets/controls",
            "_model_module_version": "1.5.0",
            "value": 1,
            "_view_count": null,
            "_view_module_version": "1.5.0",
            "orientation": "horizontal",
            "min": 0,
            "description_tooltip": null,
            "_model_module": "@jupyter-widgets/controls",
            "layout": "IPY_MODEL_63141c4f712f4974ad78fe29e118679d"
          }
        },
        "eda50908cb334bcf930bb747ddec185d": {
          "model_module": "@jupyter-widgets/controls",
          "model_name": "HTMLModel",
          "state": {
            "_view_name": "HTMLView",
            "style": "IPY_MODEL_384bce81c9464fd888ab2d0d738f9914",
            "_dom_classes": [],
            "description": "",
            "_model_name": "HTMLModel",
            "placeholder": "​",
            "_view_module": "@jupyter-widgets/controls",
            "_model_module_version": "1.5.0",
            "value": " 561758208/? [00:20&lt;00:00, 77678827.51it/s]",
            "_view_count": null,
            "_view_module_version": "1.5.0",
            "description_tooltip": null,
            "_model_module": "@jupyter-widgets/controls",
            "layout": "IPY_MODEL_250fd4c861344ba5bb71e00c2e4ae88f"
          }
        },
        "6622389e634a435db1274dcfdb23c21d": {
          "model_module": "@jupyter-widgets/controls",
          "model_name": "ProgressStyleModel",
          "state": {
            "_view_name": "StyleView",
            "_model_name": "ProgressStyleModel",
            "description_width": "initial",
            "_view_module": "@jupyter-widgets/base",
            "_model_module_version": "1.5.0",
            "_view_count": null,
            "_view_module_version": "1.2.0",
            "bar_color": null,
            "_model_module": "@jupyter-widgets/controls"
          }
        },
        "63141c4f712f4974ad78fe29e118679d": {
          "model_module": "@jupyter-widgets/base",
          "model_name": "LayoutModel",
          "state": {
            "_view_name": "LayoutView",
            "grid_template_rows": null,
            "right": null,
            "justify_content": null,
            "_view_module": "@jupyter-widgets/base",
            "overflow": null,
            "_model_module_version": "1.2.0",
            "_view_count": null,
            "flex_flow": null,
            "width": null,
            "min_width": null,
            "border": null,
            "align_items": null,
            "bottom": null,
            "_model_module": "@jupyter-widgets/base",
            "top": null,
            "grid_column": null,
            "overflow_y": null,
            "overflow_x": null,
            "grid_auto_flow": null,
            "grid_area": null,
            "grid_template_columns": null,
            "flex": null,
            "_model_name": "LayoutModel",
            "justify_items": null,
            "grid_row": null,
            "max_height": null,
            "align_content": null,
            "visibility": null,
            "align_self": null,
            "height": null,
            "min_height": null,
            "padding": null,
            "grid_auto_rows": null,
            "grid_gap": null,
            "max_width": null,
            "order": null,
            "_view_module_version": "1.2.0",
            "grid_template_areas": null,
            "object_position": null,
            "object_fit": null,
            "grid_auto_columns": null,
            "margin": null,
            "display": null,
            "left": null
          }
        },
        "384bce81c9464fd888ab2d0d738f9914": {
          "model_module": "@jupyter-widgets/controls",
          "model_name": "DescriptionStyleModel",
          "state": {
            "_view_name": "StyleView",
            "_model_name": "DescriptionStyleModel",
            "description_width": "",
            "_view_module": "@jupyter-widgets/base",
            "_model_module_version": "1.5.0",
            "_view_count": null,
            "_view_module_version": "1.2.0",
            "_model_module": "@jupyter-widgets/controls"
          }
        },
        "250fd4c861344ba5bb71e00c2e4ae88f": {
          "model_module": "@jupyter-widgets/base",
          "model_name": "LayoutModel",
          "state": {
            "_view_name": "LayoutView",
            "grid_template_rows": null,
            "right": null,
            "justify_content": null,
            "_view_module": "@jupyter-widgets/base",
            "overflow": null,
            "_model_module_version": "1.2.0",
            "_view_count": null,
            "flex_flow": null,
            "width": null,
            "min_width": null,
            "border": null,
            "align_items": null,
            "bottom": null,
            "_model_module": "@jupyter-widgets/base",
            "top": null,
            "grid_column": null,
            "overflow_y": null,
            "overflow_x": null,
            "grid_auto_flow": null,
            "grid_area": null,
            "grid_template_columns": null,
            "flex": null,
            "_model_name": "LayoutModel",
            "justify_items": null,
            "grid_row": null,
            "max_height": null,
            "align_content": null,
            "visibility": null,
            "align_self": null,
            "height": null,
            "min_height": null,
            "padding": null,
            "grid_auto_rows": null,
            "grid_gap": null,
            "max_width": null,
            "order": null,
            "_view_module_version": "1.2.0",
            "grid_template_areas": null,
            "object_position": null,
            "object_fit": null,
            "grid_auto_columns": null,
            "margin": null,
            "display": null,
            "left": null
          }
        }
      }
    }
  },
  "cells": [
    {
      "cell_type": "markdown",
      "metadata": {
        "id": "FlJvWPDtaBTV"
      },
      "source": [
        "#Assignment 3x - EMNIST#\r\n",
        "\r\n",
        "\r\n",
        "    Network has:\r\n",
        "        6 Convolution layers with these kernels (10, 10, 20, 20, 30)\r\n",
        "        no fully connected layer (have Global Average Pooling layer)\r\n",
        "        uses EMNIST as the dataset\r\n",
        "        uses a maximum of 2 max-pooling layers\r\n",
        "    Code is:\r\n",
        "        well documented\r\n",
        "        Receptive field calculations mentioned (as we discussed in the class)\r\n",
        "        Input and output size for each layer mentioned \r\n",
        "        Trained for minimum of 20 epochs on GPU"
      ]
    },
    {
      "cell_type": "markdown",
      "metadata": {
        "id": "kdBB1oX5U_GM"
      },
      "source": [
        "#Imports\r\n",
        "Importing various dependencies for making, training, testing and visualising the model"
      ]
    },
    {
      "cell_type": "code",
      "metadata": {
        "id": "WVUtgy2Q7Y4w",
        "colab": {
          "base_uri": "https://localhost:8080/"
        },
        "outputId": "dc50c550-87aa-44cf-b42f-8b29e78300e2"
      },
      "source": [
        "import torch\r\n",
        "import torch.nn as nn\r\n",
        "from torchvision import datasets, transforms\r\n",
        "import torch.nn.functional as F\r\n",
        "from matplotlib import pyplot as plt\r\n",
        "import torch.optim as optim\r\n",
        "%matplotlib inline\r\n",
        "!pip install torchsummary\r\n"
      ],
      "execution_count": null,
      "outputs": [
        {
          "output_type": "stream",
          "text": [
            "Requirement already satisfied: torchsummary in /usr/local/lib/python3.6/dist-packages (1.5.1)\n"
          ],
          "name": "stdout"
        }
      ]
    },
    {
      "cell_type": "markdown",
      "metadata": {
        "id": "iABatBw8VBlV"
      },
      "source": [
        "#Model class\r\n",
        "The model consists of 6 convolution layers, which will accept the input of a 28 x 28 single channel image. 3 x 3 kernels (10, 10, 20, 20, 30) , with stride of 1 are used for feature extraction. Max pooling layers are used for increasing the receptive field twice of the input. The input and the output size of each layers, along with the respective receptive fields. Summary of the model is stated below the model class. ReLU is used as the activation function of each layer, which introduces non linearity in each layer, while keeping the model architecture light-weight."
      ]
    },
    {
      "cell_type": "code",
      "metadata": {
        "id": "GemX_xG2bY63"
      },
      "source": [
        "class Net(nn.Module):\r\n",
        "  def __init__(self):\r\n",
        "\r\n",
        "    super(Net, self).__init__()\r\n",
        "\r\n",
        "    self.conv1 = nn.Conv2d(1, 10, 3, padding = 1)\r\n",
        "    # input 28 x 28 x 1 -- output 28 x 28 x 10, Receptive field - 3\r\n",
        "    self.conv2 = nn.Conv2d(10, 10, 3, padding = 1)\r\n",
        "    # input 28 x 28 x 10 -- output 28 x 28 x 10, Receptive field - 5\r\n",
        "    self.pool1 = nn.MaxPool2d(2, 2) # Max Pooling layer with 2x2 kernel, stride of 2\r\n",
        "    # input 28 x 28 x 10 -- output 14 x 14 x 10 - Receptive field - 10\r\n",
        "    self.conv3 = nn.Conv2d(10, 20, 3, padding = 1)\r\n",
        "    # input 14 x 14 x 10 -- output 14 x 14 x 20 - Receptive field - 12\r\n",
        "    self.conv4 = nn.Conv2d(20, 20, 3, padding = 1)\r\n",
        "    # input 14 x 14 x 20 -- output 14 x 14 x 20 - Receptive field - 14\r\n",
        "    self.pool2 = nn.MaxPool2d(2, 2) # Max Pooling layer with 2x2 kernel, stride of 2\r\n",
        "    # input 14 x 14 x 20 -- output 7 x 7 x 20 - Receptive field - 28\r\n",
        "    self.conv5 = nn.Conv2d(20, 30, 3)\r\n",
        "    # input 7 x 7 x 20 -- output 5 x 5 x 30 - Receptive fild - 30\r\n",
        "    self.conv6 = nn.Conv2d(30, 26, 3)\r\n",
        "    # input 5 x 5 x 30 -- output 3 x 3 x 26 - Receptive field - 32\r\n",
        "\r\n",
        "  def forward(self, x):\r\n",
        "    x = self.pool1(F.relu(self.conv2(F.relu(self.conv1(x)))))\r\n",
        "    x = self.pool2(F.relu(self.conv4(F.relu(self.conv3(x)))))\r\n",
        "    x = self.conv6(F.relu(self.conv5(x)))\r\n",
        "    x = F.avg_pool2d(x, 3)\r\n",
        "    return F.log_softmax(x)"
      ],
      "execution_count": null,
      "outputs": []
    },
    {
      "cell_type": "code",
      "metadata": {
        "colab": {
          "base_uri": "https://localhost:8080/"
        },
        "id": "WG5LXNr-iIMg",
        "outputId": "26bdf1e0-6ffc-4e26-89d4-4cdafe5c8dff"
      },
      "source": [
        "from torchsummary import summary\r\n",
        "\r\n",
        "use_cuda = torch.cuda.is_available()\r\n",
        "device = torch.device(\"cuda\" if use_cuda else \"cpu\")\r\n",
        "model = Net().to(device)\r\n",
        "summary(model, input_size=(1, 28, 28))\r\n",
        "print(f'Device used : {device}')"
      ],
      "execution_count": null,
      "outputs": [
        {
          "output_type": "stream",
          "text": [
            "----------------------------------------------------------------\n",
            "        Layer (type)               Output Shape         Param #\n",
            "================================================================\n",
            "            Conv2d-1           [-1, 10, 28, 28]             100\n",
            "            Conv2d-2           [-1, 10, 28, 28]             910\n",
            "         MaxPool2d-3           [-1, 10, 14, 14]               0\n",
            "            Conv2d-4           [-1, 20, 14, 14]           1,820\n",
            "            Conv2d-5           [-1, 20, 14, 14]           3,620\n",
            "         MaxPool2d-6             [-1, 20, 7, 7]               0\n",
            "            Conv2d-7             [-1, 30, 5, 5]           5,430\n",
            "            Conv2d-8             [-1, 26, 3, 3]           7,046\n",
            "================================================================\n",
            "Total params: 18,926\n",
            "Trainable params: 18,926\n",
            "Non-trainable params: 0\n",
            "----------------------------------------------------------------\n",
            "Input size (MB): 0.00\n",
            "Forward/backward pass size (MB): 0.21\n",
            "Params size (MB): 0.07\n",
            "Estimated Total Size (MB): 0.28\n",
            "----------------------------------------------------------------\n",
            "Device used : cuda\n"
          ],
          "name": "stdout"
        },
        {
          "output_type": "stream",
          "text": [
            "/usr/local/lib/python3.6/dist-packages/ipykernel_launcher.py:28: UserWarning: Implicit dimension choice for log_softmax has been deprecated. Change the call to include dim=X as an argument.\n"
          ],
          "name": "stderr"
        }
      ]
    },
    {
      "cell_type": "markdown",
      "metadata": {
        "id": "x3ovQZaPWz0t"
      },
      "source": [
        "#Dataset\r\n",
        "We will be using EMNIST dataset for handwritten letter recognition, with \"split\" parameter set as \"letters\". The model will be fed with batch of 128 28x28 single channel images. For training the model, the training dataset is used which is set with auto_grad as true. For testing dataset, auto_grad is set to false. Each of the image in the dataset is Normalized with 0.1307 as the mean and 0.3081 as the standard deviation. The dataset is shuffled."
      ]
    },
    {
      "cell_type": "code",
      "metadata": {
        "id": "ZMe3YuyP7t2f",
        "colab": {
          "base_uri": "https://localhost:8080/",
          "height": 293,
          "referenced_widgets": [
            "50ad1ee172a24fb4abbf5120a4ac6b50",
            "75fe6c9bed0849eb8e227067067d8a0b",
            "fc90ee2be3da417486e66eaec15cd242",
            "eda50908cb334bcf930bb747ddec185d",
            "6622389e634a435db1274dcfdb23c21d",
            "63141c4f712f4974ad78fe29e118679d",
            "384bce81c9464fd888ab2d0d738f9914",
            "250fd4c861344ba5bb71e00c2e4ae88f"
          ]
        },
        "outputId": "919c4822-ce87-45ed-80b0-f835b5cecddb"
      },
      "source": [
        "torch.manual_seed(1)\r\n",
        "batch_size = 128\r\n",
        "kwargs = {'num_workers': 1, 'pin_memory': True} if use_cuda else {}\r\n",
        "dataset_train = datasets.EMNIST('../data', train = True, download = True, split = \"letters\",\r\n",
        "                                transform = transforms.Compose([\r\n",
        "                                                                transforms.ToTensor(),\r\n",
        "                                                                transforms.Normalize((0.1307,), (0.3081,))\r\n",
        "                                ]))\r\n",
        "# split (string): The dataset has 6 different splits: byclass, bymerge,\r\n",
        "# balanced, letters, digits and mnist. This argument specifies\r\n",
        "# which one to use.\r\n",
        "dataset_test = datasets.EMNIST('../data', train = False, download = True,\r\n",
        "                    transform = transforms.Compose([\r\n",
        "                                                   transforms.ToTensor(),\r\n",
        "                                                   transforms.Normalize((0.1307,), (0.3081,))\r\n",
        "                    ]), split = \"letters\")\r\n",
        "\r\n",
        "train_loader = torch.utils.data.DataLoader(dataset = dataset_train, batch_size = batch_size, shuffle = True, **kwargs)\r\n",
        "test_loader = torch.utils.data.DataLoader(dataset = dataset_train, batch_size = batch_size, shuffle = True, **kwargs)\r\n"
      ],
      "execution_count": null,
      "outputs": [
        {
          "output_type": "stream",
          "text": [
            "Downloading and extracting zip archive\n",
            "Downloading http://www.itl.nist.gov/iaui/vip/cs_links/EMNIST/gzip.zip to ../data/EMNIST/raw/emnist.zip\n"
          ],
          "name": "stdout"
        },
        {
          "output_type": "display_data",
          "data": {
            "application/vnd.jupyter.widget-view+json": {
              "model_id": "50ad1ee172a24fb4abbf5120a4ac6b50",
              "version_minor": 0,
              "version_major": 2
            },
            "text/plain": [
              "HBox(children=(FloatProgress(value=1.0, bar_style='info', max=1.0), HTML(value='')))"
            ]
          },
          "metadata": {
            "tags": []
          }
        },
        {
          "output_type": "stream",
          "text": [
            "Extracting ../data/EMNIST/raw/emnist.zip to ../data/EMNIST/raw\n",
            "Processing byclass\n"
          ],
          "name": "stdout"
        },
        {
          "output_type": "stream",
          "text": [
            "/usr/local/lib/python3.6/dist-packages/torchvision/datasets/mnist.py:480: UserWarning: The given NumPy array is not writeable, and PyTorch does not support non-writeable tensors. This means you can write to the underlying (supposedly non-writeable) NumPy array using the tensor. You may want to copy the array to protect its data or make it writeable before converting it to a tensor. This type of warning will be suppressed for the rest of this program. (Triggered internally at  /pytorch/torch/csrc/utils/tensor_numpy.cpp:141.)\n",
            "  return torch.from_numpy(parsed.astype(m[2], copy=False)).view(*s)\n"
          ],
          "name": "stderr"
        },
        {
          "output_type": "stream",
          "text": [
            "Processing bymerge\n",
            "Processing balanced\n",
            "Processing letters\n",
            "Processing digits\n",
            "Processing mnist\n",
            "Done!\n"
          ],
          "name": "stdout"
        }
      ]
    },
    {
      "cell_type": "markdown",
      "metadata": {
        "id": "o9T4Jd40X6Iq"
      },
      "source": [
        "#Visualising Dataset\r\n",
        "Below is the piece of code for visualising the dataset by plotting the images in 5 (1x5) subplots. This gives a better understanding of what kind of dataset we are dealing with, along with their labels. The images are transposed for the sake of understanding and a better visualization."
      ]
    },
    {
      "cell_type": "code",
      "metadata": {
        "colab": {
          "base_uri": "https://localhost:8080/",
          "height": 437
        },
        "id": "lUGDqcbpD12X",
        "outputId": "f6d5129e-6145-4103-ed52-99d8b568ba21"
      },
      "source": [
        "images, labels = next(iter(train_loader))\r\n",
        "i = 0\r\n",
        "while i < 20:\r\n",
        "  fig, ax = plt.subplots(1,5)\r\n",
        "  for j in range(5):\r\n",
        "    ax[j].imshow(torch.transpose(torch.squeeze(images[i]), 1, 0))\r\n",
        "    ax[j].set_title(train_loader.dataset.classes[labels[i].item()-1])\r\n",
        "    i += 1"
      ],
      "execution_count": null,
      "outputs": [
        {
          "output_type": "display_data",
          "data": {
            "image/png": "[encoded data removed]",
            "text/plain": [
              "<Figure size 432x288 with 5 Axes>"
            ]
          },
          "metadata": {
            "tags": [],
            "needs_background": "light"
          }
        },
        {
          "output_type": "display_data",
          "data": {
            "image/png": "[encoded data removed]",
            "text/plain": [
              "<Figure size 432x288 with 5 Axes>"
            ]
          },
          "metadata": {
            "tags": [],
            "needs_background": "light"
          }
        },
        {
          "output_type": "display_data",
          "data": {
            "image/png": "[encoded data removed]",
            "text/plain": [
              "<Figure size 432x288 with 5 Axes>"
            ]
          },
          "metadata": {
            "tags": [],
            "needs_background": "light"
          }
        },
        {
          "output_type": "display_data",
          "data": {
            "image/png": "[encoded data removed]",
            "text/plain": [
              "<Figure size 432x288 with 5 Axes>"
            ]
          },
          "metadata": {
            "tags": [],
            "needs_background": "light"
          }
        }
      ]
    },
    {
      "cell_type": "markdown",
      "metadata": {
        "id": "3NPwsl7nYhhJ"
      },
      "source": [
        "#Training the model\r\n",
        "The below code trains the model. 2 method definitions are present on the model, namely \"train\" and \"test\", which fulfill the needs accordingly. A progress bar is used in the training method to visualise the training phase of the model. \r\n",
        "\r\n",
        "Stochastic Gradient Descent is used as the optimizer of the model.\r\n",
        "\r\n",
        "\r\n",
        "The negative log likelihood loss is used for calculating the loss of the model. It is useful to train a classification problem with `C` classes.\r\n",
        "<br><br>\r\n",
        "<img src = \"https://ljvmiranda921.github.io/assets/png/cs231n-ann/neg_log.png\" width=500px height = 400px>\r\n",
        "\r\n",
        "Fig: The loss function reaches infinity when input is 0, and reaches 0 when input is 1\r\n",
        "<br>\r\n",
        "<br>\r\n",
        "The NLL loss can be better visualized by \r\n",
        "<br>\r\n",
        "<img src = \"https://i.imgur.com/hU252jE.jpg\" width=500px height = 400px>\r\n",
        "\r\n",
        "\r\n",
        "---\r\n",
        "Using the above mentioned parameters, the model achieved 95% of testing accuracy"
      ]
    },
    {
      "cell_type": "code",
      "metadata": {
        "id": "U_Bjwr-olAz8"
      },
      "source": [
        "\r\n",
        "#tqdm - progress bar\r\n",
        "from tqdm import tqdm\r\n",
        "def train(model, device, train_loader, optimizer, epoch):\r\n",
        "    model.train()\r\n",
        "    pbar = tqdm(train_loader, position = 0, leave = True)\r\n",
        "    correct=0\r\n",
        "    train_loss = 0\r\n",
        "    for batch_idx, (data, target) in enumerate(pbar):\r\n",
        "        data, target = data.to(device), target.to(device)\r\n",
        "        optimizer.zero_grad()\r\n",
        "        # zero_grad clears old gradients from the last step (otherwise you’d just accumulate the gradients from all loss.backward() \r\n",
        "        output = model(data)\r\n",
        "        output = output.view(128, -1)\r\n",
        "        target = target - 1\r\n",
        "\r\n",
        "        #Read more about nll_loss\r\n",
        "        loss = F.nll_loss(output, target)\r\n",
        "        train_loss += loss\r\n",
        "        #Read more about argmax\r\n",
        "        pred = output.argmax(dim=1, keepdim = True)\r\n",
        "        correct += pred.eq(target.view_as(pred)).sum().item()\r\n",
        "        loss.backward()\r\n",
        "        optimizer.step()\r\n",
        "        pbar.set_description(desc= f'loss={loss.item()} batch_id={batch_idx}')\r\n",
        "\r\n",
        "    train_loss /= len(train_loader.dataset) \r\n",
        "    print('\\nTrain set: Average loss: {:.4f}, Accuracy: {}/{} ({:.0f}%)\\n'.format(train_loss, correct, len(train_loader.dataset),100. * correct / len(train_loader.dataset)))\r\n",
        "\r\n",
        "def test(model, device, test_loader):\r\n",
        "    model.eval()\r\n",
        "    test_loss = 0\r\n",
        "    correct = 0\r\n",
        "    with torch.no_grad():\r\n",
        "        for data, target in test_loader:\r\n",
        "            data, target = data.to(device), target.to(device)\r\n",
        "            output = model(data)\r\n",
        "            output = output.view(128, -1)\r\n",
        "            target = target - 1\r\n",
        "            test_loss += F.nll_loss(output, target, reduction='sum').item()  # sum up batch loss\r\n",
        "            pred = output.argmax(dim=1, keepdim=True)  # get the index of the max log-probability\r\n",
        "            correct += pred.eq(target.view_as(pred)).sum().item()\r\n",
        "\r\n",
        "    test_loss /= len(test_loader.dataset)\r\n",
        "\r\n",
        "    print('\\nTest set: Average loss: {:.4f}, Accuracy: {}/{} ({:.0f}%)\\n'.format(\r\n",
        "        test_loss, correct, len(test_loader.dataset),\r\n",
        "        100. * correct / len(test_loader.dataset)))"
      ],
      "execution_count": null,
      "outputs": []
    },
    {
      "cell_type": "code",
      "metadata": {
        "colab": {
          "base_uri": "https://localhost:8080/"
        },
        "id": "BC06Z7PWlbPv",
        "outputId": "b3d2e3d0-899d-4716-f529-e7cef2955ad9"
      },
      "source": [
        "optimizer = optim.SGD(model.parameters(), lr=0.01, momentum=0.9)\r\n",
        "\r\n",
        "for epoch in range(20):\r\n",
        "    train(model, device, train_loader, optimizer, epoch)\r\n",
        "    test(model, device, test_loader)"
      ],
      "execution_count": null,
      "outputs": [
        {
          "output_type": "stream",
          "text": [
            "  0%|          | 0/975 [00:00<?, ?it/s]/usr/local/lib/python3.6/dist-packages/ipykernel_launcher.py:28: UserWarning: Implicit dimension choice for log_softmax has been deprecated. Change the call to include dim=X as an argument.\n",
            "loss=0.28936493396759033 batch_id=974: 100%|██████████| 975/975 [00:32<00:00, 30.15it/s]"
          ],
          "name": "stderr"
        },
        {
          "output_type": "stream",
          "text": [
            "\n",
            "Train set: Average loss: 0.0017, Accuracy: 115739/124800 (93%)\n",
            "\n"
          ],
          "name": "stdout"
        },
        {
          "output_type": "stream",
          "text": [
            "\n",
            "  0%|          | 0/975 [00:00<?, ?it/s]"
          ],
          "name": "stderr"
        },
        {
          "output_type": "stream",
          "text": [
            "\n",
            "Test set: Average loss: 0.2057, Accuracy: 116032/124800 (93%)\n",
            "\n"
          ],
          "name": "stdout"
        },
        {
          "output_type": "stream",
          "text": [
            "loss=0.273615300655365 batch_id=974: 100%|██████████| 975/975 [00:32<00:00, 30.29it/s]"
          ],
          "name": "stderr"
        },
        {
          "output_type": "stream",
          "text": [
            "\n",
            "Train set: Average loss: 0.0016, Accuracy: 116243/124800 (93%)\n",
            "\n"
          ],
          "name": "stdout"
        },
        {
          "output_type": "stream",
          "text": [
            "\n",
            "  0%|          | 0/975 [00:00<?, ?it/s]"
          ],
          "name": "stderr"
        },
        {
          "output_type": "stream",
          "text": [
            "\n",
            "Test set: Average loss: 0.1947, Accuracy: 116716/124800 (94%)\n",
            "\n"
          ],
          "name": "stdout"
        },
        {
          "output_type": "stream",
          "text": [
            "loss=0.11363527923822403 batch_id=974: 100%|██████████| 975/975 [00:31<00:00, 30.51it/s]"
          ],
          "name": "stderr"
        },
        {
          "output_type": "stream",
          "text": [
            "\n",
            "Train set: Average loss: 0.0015, Accuracy: 116628/124800 (93%)\n",
            "\n"
          ],
          "name": "stdout"
        },
        {
          "output_type": "stream",
          "text": [
            "\n",
            "  0%|          | 0/975 [00:00<?, ?it/s]"
          ],
          "name": "stderr"
        },
        {
          "output_type": "stream",
          "text": [
            "\n",
            "Test set: Average loss: 0.1867, Accuracy: 116944/124800 (94%)\n",
            "\n"
          ],
          "name": "stdout"
        },
        {
          "output_type": "stream",
          "text": [
            "loss=0.18731939792633057 batch_id=974: 100%|██████████| 975/975 [00:31<00:00, 31.15it/s]"
          ],
          "name": "stderr"
        },
        {
          "output_type": "stream",
          "text": [
            "\n",
            "Train set: Average loss: 0.0015, Accuracy: 116809/124800 (94%)\n",
            "\n"
          ],
          "name": "stdout"
        },
        {
          "output_type": "stream",
          "text": [
            "\n",
            "  0%|          | 0/975 [00:00<?, ?it/s]"
          ],
          "name": "stderr"
        },
        {
          "output_type": "stream",
          "text": [
            "\n",
            "Test set: Average loss: 0.1734, Accuracy: 117472/124800 (94%)\n",
            "\n"
          ],
          "name": "stdout"
        },
        {
          "output_type": "stream",
          "text": [
            "loss=0.19317641854286194 batch_id=974: 100%|██████████| 975/975 [00:30<00:00, 31.52it/s]\n"
          ],
          "name": "stderr"
        },
        {
          "output_type": "stream",
          "text": [
            "\n",
            "Train set: Average loss: 0.0014, Accuracy: 117067/124800 (94%)\n",
            "\n"
          ],
          "name": "stdout"
        },
        {
          "output_type": "stream",
          "text": [
            "\r  0%|          | 0/975 [00:00<?, ?it/s]"
          ],
          "name": "stderr"
        },
        {
          "output_type": "stream",
          "text": [
            "\n",
            "Test set: Average loss: 0.1693, Accuracy: 117553/124800 (94%)\n",
            "\n"
          ],
          "name": "stdout"
        },
        {
          "output_type": "stream",
          "text": [
            "loss=0.11645130813121796 batch_id=974: 100%|██████████| 975/975 [00:30<00:00, 31.53it/s]"
          ],
          "name": "stderr"
        },
        {
          "output_type": "stream",
          "text": [
            "\n",
            "Train set: Average loss: 0.0014, Accuracy: 117316/124800 (94%)\n",
            "\n"
          ],
          "name": "stdout"
        },
        {
          "output_type": "stream",
          "text": [
            "\n",
            "  0%|          | 0/975 [00:00<?, ?it/s]"
          ],
          "name": "stderr"
        },
        {
          "output_type": "stream",
          "text": [
            "\n",
            "Test set: Average loss: 0.1603, Accuracy: 117878/124800 (94%)\n",
            "\n"
          ],
          "name": "stdout"
        },
        {
          "output_type": "stream",
          "text": [
            "loss=0.11956001073122025 batch_id=974: 100%|██████████| 975/975 [00:30<00:00, 31.80it/s]"
          ],
          "name": "stderr"
        },
        {
          "output_type": "stream",
          "text": [
            "\n",
            "Train set: Average loss: 0.0013, Accuracy: 117461/124800 (94%)\n",
            "\n"
          ],
          "name": "stdout"
        },
        {
          "output_type": "stream",
          "text": [
            "\n",
            "  0%|          | 0/975 [00:00<?, ?it/s]"
          ],
          "name": "stderr"
        },
        {
          "output_type": "stream",
          "text": [
            "\n",
            "Test set: Average loss: 0.1634, Accuracy: 117755/124800 (94%)\n",
            "\n"
          ],
          "name": "stdout"
        },
        {
          "output_type": "stream",
          "text": [
            "loss=0.11725590378046036 batch_id=974: 100%|██████████| 975/975 [00:30<00:00, 31.58it/s]\n"
          ],
          "name": "stderr"
        },
        {
          "output_type": "stream",
          "text": [
            "\n",
            "Train set: Average loss: 0.0013, Accuracy: 117661/124800 (94%)\n",
            "\n"
          ],
          "name": "stdout"
        },
        {
          "output_type": "stream",
          "text": [
            "\r  0%|          | 0/975 [00:00<?, ?it/s]"
          ],
          "name": "stderr"
        },
        {
          "output_type": "stream",
          "text": [
            "\n",
            "Test set: Average loss: 0.1582, Accuracy: 118067/124800 (95%)\n",
            "\n"
          ],
          "name": "stdout"
        },
        {
          "output_type": "stream",
          "text": [
            "loss=0.10569695383310318 batch_id=974: 100%|██████████| 975/975 [00:30<00:00, 31.79it/s]"
          ],
          "name": "stderr"
        },
        {
          "output_type": "stream",
          "text": [
            "\n",
            "Train set: Average loss: 0.0013, Accuracy: 117820/124800 (94%)\n",
            "\n"
          ],
          "name": "stdout"
        },
        {
          "output_type": "stream",
          "text": [
            "\n",
            "  0%|          | 0/975 [00:00<?, ?it/s]"
          ],
          "name": "stderr"
        },
        {
          "output_type": "stream",
          "text": [
            "\n",
            "Test set: Average loss: 0.1751, Accuracy: 117097/124800 (94%)\n",
            "\n"
          ],
          "name": "stdout"
        },
        {
          "output_type": "stream",
          "text": [
            "loss=0.16849970817565918 batch_id=974: 100%|██████████| 975/975 [00:30<00:00, 31.63it/s]"
          ],
          "name": "stderr"
        },
        {
          "output_type": "stream",
          "text": [
            "\n",
            "Train set: Average loss: 0.0012, Accuracy: 117971/124800 (95%)\n",
            "\n"
          ],
          "name": "stdout"
        },
        {
          "output_type": "stream",
          "text": [
            "\n",
            "  0%|          | 0/975 [00:00<?, ?it/s]"
          ],
          "name": "stderr"
        },
        {
          "output_type": "stream",
          "text": [
            "\n",
            "Test set: Average loss: 0.1525, Accuracy: 118227/124800 (95%)\n",
            "\n"
          ],
          "name": "stdout"
        },
        {
          "output_type": "stream",
          "text": [
            "loss=0.30997881293296814 batch_id=974: 100%|██████████| 975/975 [00:30<00:00, 32.15it/s]\n"
          ],
          "name": "stderr"
        },
        {
          "output_type": "stream",
          "text": [
            "\n",
            "Train set: Average loss: 0.0012, Accuracy: 118022/124800 (95%)\n",
            "\n"
          ],
          "name": "stdout"
        },
        {
          "output_type": "stream",
          "text": [
            "\r  0%|          | 0/975 [00:00<?, ?it/s]"
          ],
          "name": "stderr"
        },
        {
          "output_type": "stream",
          "text": [
            "\n",
            "Test set: Average loss: 0.1494, Accuracy: 118389/124800 (95%)\n",
            "\n"
          ],
          "name": "stdout"
        },
        {
          "output_type": "stream",
          "text": [
            "loss=0.0875474214553833 batch_id=974: 100%|██████████| 975/975 [00:30<00:00, 32.13it/s]"
          ],
          "name": "stderr"
        },
        {
          "output_type": "stream",
          "text": [
            "\n",
            "Train set: Average loss: 0.0012, Accuracy: 118108/124800 (95%)\n",
            "\n"
          ],
          "name": "stdout"
        },
        {
          "output_type": "stream",
          "text": [
            "\n",
            "  0%|          | 0/975 [00:00<?, ?it/s]"
          ],
          "name": "stderr"
        },
        {
          "output_type": "stream",
          "text": [
            "\n",
            "Test set: Average loss: 0.1467, Accuracy: 118354/124800 (95%)\n",
            "\n"
          ],
          "name": "stdout"
        },
        {
          "output_type": "stream",
          "text": [
            "loss=0.14287839829921722 batch_id=974: 100%|██████████| 975/975 [00:30<00:00, 31.79it/s]\n"
          ],
          "name": "stderr"
        },
        {
          "output_type": "stream",
          "text": [
            "\n",
            "Train set: Average loss: 0.0012, Accuracy: 118150/124800 (95%)\n",
            "\n"
          ],
          "name": "stdout"
        },
        {
          "output_type": "stream",
          "text": [
            "\r  0%|          | 0/975 [00:00<?, ?it/s]"
          ],
          "name": "stderr"
        },
        {
          "output_type": "stream",
          "text": [
            "\n",
            "Test set: Average loss: 0.1410, Accuracy: 118564/124800 (95%)\n",
            "\n"
          ],
          "name": "stdout"
        },
        {
          "output_type": "stream",
          "text": [
            "loss=0.09916950017213821 batch_id=974: 100%|██████████| 975/975 [00:30<00:00, 31.88it/s]"
          ],
          "name": "stderr"
        },
        {
          "output_type": "stream",
          "text": [
            "\n",
            "Train set: Average loss: 0.0012, Accuracy: 118224/124800 (95%)\n",
            "\n"
          ],
          "name": "stdout"
        },
        {
          "output_type": "stream",
          "text": [
            "\n",
            "  0%|          | 0/975 [00:00<?, ?it/s]"
          ],
          "name": "stderr"
        },
        {
          "output_type": "stream",
          "text": [
            "\n",
            "Test set: Average loss: 0.1410, Accuracy: 118603/124800 (95%)\n",
            "\n"
          ],
          "name": "stdout"
        },
        {
          "output_type": "stream",
          "text": [
            "loss=0.12779533863067627 batch_id=974: 100%|██████████| 975/975 [00:29<00:00, 32.58it/s]\n"
          ],
          "name": "stderr"
        },
        {
          "output_type": "stream",
          "text": [
            "\n",
            "Train set: Average loss: 0.0012, Accuracy: 118272/124800 (95%)\n",
            "\n"
          ],
          "name": "stdout"
        },
        {
          "output_type": "stream",
          "text": [
            "\r  0%|          | 0/975 [00:00<?, ?it/s]"
          ],
          "name": "stderr"
        },
        {
          "output_type": "stream",
          "text": [
            "\n",
            "Test set: Average loss: 0.1348, Accuracy: 118911/124800 (95%)\n",
            "\n"
          ],
          "name": "stdout"
        },
        {
          "output_type": "stream",
          "text": [
            "loss=0.1997392475605011 batch_id=974: 100%|██████████| 975/975 [00:30<00:00, 32.32it/s]\n"
          ],
          "name": "stderr"
        },
        {
          "output_type": "stream",
          "text": [
            "\n",
            "Train set: Average loss: 0.0011, Accuracy: 118492/124800 (95%)\n",
            "\n"
          ],
          "name": "stdout"
        },
        {
          "output_type": "stream",
          "text": [
            "\r  0%|          | 0/975 [00:00<?, ?it/s]"
          ],
          "name": "stderr"
        },
        {
          "output_type": "stream",
          "text": [
            "\n",
            "Test set: Average loss: 0.1366, Accuracy: 118856/124800 (95%)\n",
            "\n"
          ],
          "name": "stdout"
        },
        {
          "output_type": "stream",
          "text": [
            "loss=0.10892272740602493 batch_id=974: 100%|██████████| 975/975 [00:30<00:00, 32.38it/s]"
          ],
          "name": "stderr"
        },
        {
          "output_type": "stream",
          "text": [
            "\n",
            "Train set: Average loss: 0.0011, Accuracy: 118518/124800 (95%)\n",
            "\n"
          ],
          "name": "stdout"
        },
        {
          "output_type": "stream",
          "text": [
            "\n",
            "  0%|          | 0/975 [00:00<?, ?it/s]"
          ],
          "name": "stderr"
        },
        {
          "output_type": "stream",
          "text": [
            "\n",
            "Test set: Average loss: 0.1306, Accuracy: 119093/124800 (95%)\n",
            "\n"
          ],
          "name": "stdout"
        },
        {
          "output_type": "stream",
          "text": [
            "loss=0.1313686966896057 batch_id=974: 100%|██████████| 975/975 [00:30<00:00, 32.31it/s]"
          ],
          "name": "stderr"
        },
        {
          "output_type": "stream",
          "text": [
            "\n",
            "Train set: Average loss: 0.0011, Accuracy: 118629/124800 (95%)\n",
            "\n"
          ],
          "name": "stdout"
        },
        {
          "output_type": "stream",
          "text": [
            "\n",
            "  0%|          | 0/975 [00:00<?, ?it/s]"
          ],
          "name": "stderr"
        },
        {
          "output_type": "stream",
          "text": [
            "\n",
            "Test set: Average loss: 0.1296, Accuracy: 119163/124800 (95%)\n",
            "\n"
          ],
          "name": "stdout"
        },
        {
          "output_type": "stream",
          "text": [
            "loss=0.08625099062919617 batch_id=974: 100%|██████████| 975/975 [00:30<00:00, 32.46it/s]\n"
          ],
          "name": "stderr"
        },
        {
          "output_type": "stream",
          "text": [
            "\n",
            "Train set: Average loss: 0.0011, Accuracy: 118666/124800 (95%)\n",
            "\n"
          ],
          "name": "stdout"
        },
        {
          "output_type": "stream",
          "text": [
            "\r  0%|          | 0/975 [00:00<?, ?it/s]"
          ],
          "name": "stderr"
        },
        {
          "output_type": "stream",
          "text": [
            "\n",
            "Test set: Average loss: 0.1303, Accuracy: 119053/124800 (95%)\n",
            "\n"
          ],
          "name": "stdout"
        },
        {
          "output_type": "stream",
          "text": [
            "loss=0.15722665190696716 batch_id=974: 100%|██████████| 975/975 [00:29<00:00, 32.62it/s]\n"
          ],
          "name": "stderr"
        },
        {
          "output_type": "stream",
          "text": [
            "\n",
            "Train set: Average loss: 0.0011, Accuracy: 118715/124800 (95%)\n",
            "\n",
            "\n",
            "Test set: Average loss: 0.1322, Accuracy: 119001/124800 (95%)\n",
            "\n"
          ],
          "name": "stdout"
        }
      ]
    }
  ]
}